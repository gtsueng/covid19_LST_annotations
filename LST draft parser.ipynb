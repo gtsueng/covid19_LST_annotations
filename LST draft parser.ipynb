{
 "cells": [
  {
   "cell_type": "code",
   "execution_count": 1,
   "metadata": {},
   "outputs": [],
   "source": [
    "import os\n",
    "import pandas\n",
    "from pandas import read_csv\n",
    "import json\n",
    "import pickle\n",
    "from datetime import datetime\n",
    "import sys\n",
    "import PyPDF2 as pypdf\n",
    "import requests"
   ]
  },
  {
   "cell_type": "markdown",
   "metadata": {},
   "source": [
    "## Parse PDFs for initial dump"
   ]
  },
  {
   "cell_type": "code",
   "execution_count": 10,
   "metadata": {},
   "outputs": [],
   "source": [
    "#### Create curatedBy Object\n",
    "def generate_curator():\n",
    "    todate = datetime.now()\n",
    "    curatedByObject = {\"@type\": \"Organization\", \"identifier\": \"covid19LST\", \"url\": \"https://www.covid19lst.org/\", \n",
    "                              \"name\": \"COVID-19 Literature Surveillance Team\", \"affiliation\": \"\", \n",
    "                              \"curationDate\": todate.strftime(\"%Y-%m-%d\")}\n",
    "    return(curatedByObject)"
   ]
  },
  {
   "cell_type": "code",
   "execution_count": 11,
   "metadata": {},
   "outputs": [],
   "source": [
    "def generate_author():\n",
    "    authorObject = generate_curator()\n",
    "    authorObject.pop('curationDate')\n",
    "    memberlist = read_csv('data/LST members.txt',delimiter='\\t',header=0,encoding='UTF-8')\n",
    "    memberlist.rename(columns={'affiliation':'affiliation list'}, inplace=True)\n",
    "    memberlist['affiliation']='blank'\n",
    "    for i in range(len(memberlist)):\n",
    "        affiliationlist = memberlist.iloc[i]['affiliation list'].split(';')\n",
    "        tmplist = []\n",
    "        for eachaffiliation in affiliationlist:\n",
    "            tmplist.append({\"name\":eachaffiliation})\n",
    "        memberlist.at[i,'affiliation'] = tmplist\n",
    "    memberlist.drop(columns='affiliation list',inplace=True)\n",
    "    memberdictlist = memberlist.to_dict('records')\n",
    "    authorObject['members']=memberdictlist \n",
    "    return(authorObject)"
   ]
  },
  {
   "cell_type": "code",
   "execution_count": 2,
   "metadata": {},
   "outputs": [],
   "source": [
    "def generate_abstract(publist):\n",
    "    separator = ', '\n",
    "    abstract = \"Analytical reviews on the level of evidence presented in publications. This report specifically covers the following publications: \"+ separator.join(publist)\n",
    "    return(abstract)"
   ]
  },
  {
   "cell_type": "code",
   "execution_count": 3,
   "metadata": {},
   "outputs": [],
   "source": [
    "### Batch convert DOIs\n",
    "def convert_dois(doilist):\n",
    "    doistring = '\"' + '\",\"'.join(doilist) + '\"'\n",
    "    r = requests.post(\"https://api.outbreak.info/resources/query/\", params = {'q': doistring, 'scopes': 'doi', 'fields': '_id,name,url,doi'})\n",
    "    if r.status_code == 200:\n",
    "        rawresult = pandas.read_json(r.text)\n",
    "        cleanresult = rawresult.drop_duplicates(subset='_id',keep=\"first\")\n",
    "        if len(doilist)>len(cleanresult):\n",
    "            missing = [x for x in doilist if x not in cleanresult['doi'].unique().tolist()]\n",
    "        else:\n",
    "            missing = None\n",
    "        cleanresult.drop(columns=['doi','_score','query'],inplace=True)\n",
    "    return(cleanresult, missing)\n",
    "\n",
    "### Convert a single doi\n",
    "##\"https://api.outbreak.info/resources/query?q=doi:\"+doi\n",
    "\n",
    "### Batch fetch pmid meta\n",
    "def get_pmid_meta(pmidlist):\n",
    "    pmidstring = '\"' + '\",\"'.join(pmidlist) + '\"'\n",
    "    r = requests.post(\"https://api.outbreak.info/resources/query/\", params = {'q': pmidstring, 'scopes': '_id', 'fields': '_id,name,url'})\n",
    "    if r.status_code == 200:\n",
    "        rawresult = pandas.read_json(r.text)\n",
    "        cleanresult = rawresult[['_id','name','url']].loc[rawresult['_score']==1].copy()\n",
    "        cleanresult.drop_duplicates(subset='_id',keep=\"first\", inplace=True)\n",
    "        if len(pmidlist)>len(cleanresult):\n",
    "            missing = [x for x in pmidlist if x not in cleanresult['_id'].unique().tolist()]\n",
    "        else:\n",
    "            missing = None\n",
    "    return(cleanresult, missing)    \n"
   ]
  },
  {
   "cell_type": "code",
   "execution_count": 4,
   "metadata": {},
   "outputs": [],
   "source": [
    "def parse_pdf(eachfile):\n",
    "    pdffile = open('data/reports/'+eachfile,'rb')\n",
    "    pdf = pypdf.PdfFileReader(pdffile)\n",
    "    pages = pdf.getNumPages()\n",
    "    key = '/Annots'\n",
    "    uri = '/URI'\n",
    "    ank = '/A'\n",
    "    allurls = []\n",
    "    for page in range(pages):\n",
    "        pageSliced = pdf.getPage(page)\n",
    "        pageObject = pageSliced.getObject()\n",
    "        if key in pageObject:\n",
    "            ann = pageObject[key]\n",
    "            for a in ann:\n",
    "                u = a.getObject()\n",
    "                if ank in u:\n",
    "                    if uri in u[ank]:\n",
    "                        allurls.append(u[ank][uri])\n",
    "    pmidlist = []\n",
    "    doilist = []\n",
    "    for eachurl in allurls:\n",
    "        if 'pubmed' in eachurl and '?' not in eachurl:\n",
    "            pmid = eachurl.replace(\"https://www.ncbi.nlm.nih.gov/pubmed/\",\"\").replace(\"https://pubmed.ncbi.nlm.nih.gov/\",\"\").rstrip(\"/\")\n",
    "            if \"#affiliation\" in pmid:\n",
    "                trupmid = pmid.split(\"/\")[0]\n",
    "                tmpid = 'pmid'+trupmid\n",
    "            else:\n",
    "                tmpid = 'pmid'+pmid\n",
    "            pmidlist.append(tmpid)\n",
    "        elif 'doi' in eachurl:\n",
    "            doi = eachurl.replace(\"https://doi.org/\",\"\").rstrip(\"/\")\n",
    "            doilist.append(doi)\n",
    "        pmidlist = list(set(pmidlist))\n",
    "        doilist = list(set(doilist))\n",
    "    return(pmidlist,doilist)\n",
    "\n",
    "def merge_meta(pmidlist,doilist):\n",
    "    if len(doilist)>0:\n",
    "        doianns,missing_dois = convert_dois(doilist)\n",
    "        doicheck = True\n",
    "    else:\n",
    "        doicheck = False\n",
    "        missing_dois = None\n",
    "    if len(pmidlist)>0:\n",
    "        pmidanns,missing_pmids = get_pmid_meta(pmidlist)\n",
    "        pmidcheck = True\n",
    "    else:\n",
    "        pmidcheck = False\n",
    "        missing_pmids = None\n",
    "    if doicheck==True and pmidcheck==True:\n",
    "        basedOndf = pandas.concat((pmidanns,doianns),ignore_index=True)\n",
    "    elif doicheck==True and pmidcheck==False:\n",
    "        basedOndf = doianns\n",
    "    elif doicheck==False and pmidcheck==True:\n",
    "        basedOndf = pmidanns     \n",
    "    if missing_pmids!=None and missing_dois!=None:\n",
    "        missing = list(set(missing_pmids).union(set(missing_dois)))\n",
    "    elif missing_pmids==None and missing_dois!=None:\n",
    "        missing = missing_dois\n",
    "    elif missing_pmids!=None and missing_dois==None:\n",
    "        missing = missing_pmids\n",
    "    else:\n",
    "        missing = None\n",
    "    return(basedOndf,missing)"
   ]
  },
  {
   "cell_type": "code",
   "execution_count": 5,
   "metadata": {},
   "outputs": [],
   "source": [
    "def save_missing(missing):\n",
    "    try:\n",
    "        missing_list = pickle.load(open('results/pubs_not_yet_in_outbreak.txt','rb'))\n",
    "        if missing != None:\n",
    "            total_missing = list(set([*missing_list, *missing]))\n",
    "            with open('results/pubs_not_yet_in_outbreak.txt','wb') as dmpfile:\n",
    "                pickle.dump(total_missing,dmpfile)\n",
    "    except:\n",
    "        if missing != None:\n",
    "            with open('results/pubs_not_yet_in_outbreak.txt','wb') as dmpfile:\n",
    "                pickle.dump(total_missing,dmpfile)"
   ]
  },
  {
   "cell_type": "code",
   "execution_count": 6,
   "metadata": {},
   "outputs": [],
   "source": [
    "def generated_citedBy_dict():\n",
    "    txtdmp = read_csv('results/update dumps/litcovid_citedBy.tsv', delimiter='\\t', header=0, index_col=0)\n",
    "    dictlist = []\n",
    "    for i in range(len(txtdump)):\n",
    "        tmpdict={'_id':txtdump.iloc[i]['_id'],'citedBy':[{'@type':'Publication',\n",
    "                                                                'identifier':txtdump.iloc[i]['identifier'],\n",
    "                                                                'name':txtdump.iloc[i]['name'],\n",
    "                                                                'url':txtdump.iloc[i]['url']}]}\n",
    "        dictlist.append(tmpdict)\n",
    "    with open('results/update dumps/litcovid_citedBy.json', 'w', encoding='utf-8') as f:\n",
    "        json.dump(dictlist, f)\n"
   ]
  },
  {
   "cell_type": "code",
   "execution_count": 7,
   "metadata": {},
   "outputs": [],
   "source": [
    "## Note that strftime(\"%d\") will give the day with a leading zero\n",
    "## In windows, strftime(\"%#d\") will give it without leading zeros\n",
    "## In linux, strftime(\"%-d\") will give it without leading zeros\n",
    "def generate_report_url(datePublished):\n",
    "    urlbase = \"https://www.covid19lst.org/post/\"\n",
    "    urlend = \"daily-covid-19-lst-report\"\n",
    "    is_windows = sys.platform.startswith('win')\n",
    "    if is_windows==True:\n",
    "        reporturl = urlbase+datePublished.strftime(\"%B\").lower()+\"-\"+datePublished.strftime(\"%#d\")+\"-\"+urlend\n",
    "    else:\n",
    "        reporturl = urlbase+datePublished.strftime(\"%B\").lower()+\"-\"+datePublished.strftime(\"%-d\")+\"-\"+urlend\n",
    "    return(reporturl)"
   ]
  },
  {
   "cell_type": "code",
   "execution_count": 8,
   "metadata": {},
   "outputs": [],
   "source": [
    "def generate_report_meta(filelist):\n",
    "    report_pmid_df = pandas.DataFrame(columns=['_id','name','identifier','url'])\n",
    "    curatedByObject = generate_curator()\n",
    "    author = generate_author()\n",
    "    for eachfile in filelist:\n",
    "        reportdate = eachfile[0:4]+'.'+eachfile[4:6]+'.'+eachfile[6:8]\n",
    "        datePublished = datetime.fromisoformat(eachfile[0:4]+'-'+eachfile[4:6]+'-'+eachfile[6:8])\n",
    "        name = \"Covid-19 LST Report \"+reportdate\n",
    "        reporturl = generate_report_url(datePublished)\n",
    "        report_id = 'lst'+reportdate\n",
    "        pmidlist,doilist = parse_pdf(eachfile)\n",
    "        basedOndf,missing = merge_meta(pmidlist,doilist)\n",
    "        reportlinkdf = basedOndf[['_id','url']]\n",
    "        reportlinkdf['identifier']=report_id\n",
    "        reportlinkdf['url']=reporturl\n",
    "        reportlinkdf['name']=name\n",
    "        report_pmid_df = pandas.concat(([report_pmid_df,reportlinkdf]),ignore_index=True)\n",
    "        report_pmid_df.drop_duplicates(keep='first',inplace=True)\n",
    "        report_pmid_df.to_csv('data/report_pmid_df.txt',sep='\\t',header=True)\n",
    "        save_missing(missing)\n",
    "        abstract = generate_abstract(basedOndf['_id'].unique().tolist())\n",
    "        metadict = {\"@context\": {\"schema\": \"http://schema.org/\", \"outbreak\": \"https://discovery.biothings.io/view/outbreak/\"}, \n",
    "                    \"@type\": \"Publication\", \"journalName\": \"COVID-19 LST Daily Summary Reports\", \"journalNameAbbreviation\": \"covid19LST\", \n",
    "                    \"publicationType\": \"Review\", \"license\":\"(CC BY-NC-SA 4.0) (http://creativecommons.org/licenses/by-nc-sa/4.0/)\",\n",
    "                    \"_id\":report_id,\"curatedBy\": curatedByObject,\"abstract\": abstract, \"name\": name, \n",
    "                    \"datePublished\": datePublished.strftime(\"%y-%m-%d\"),\"url\": reporturl,\"author\":[author], \n",
    "                    \"isBasedOn\":basedOndf.to_dict('records')}\n",
    "        yield(metadict)"
   ]
  },
  {
   "cell_type": "code",
   "execution_count": 12,
   "metadata": {},
   "outputs": [
    {
     "name": "stdout",
     "output_type": "stream",
     "text": [
      "{'@context': {'schema': 'http://schema.org/', 'outbreak': 'https://discovery.biothings.io/view/outbreak/'}, '@type': 'Publication', 'journalName': 'COVID-19 LST Daily Summary Reports', 'journalNameAbbreviation': 'covid19LST', 'publicationType': 'Review', 'license': '(CC BY-NC-SA 4.0) (http://creativecommons.org/licenses/by-nc-sa/4.0/)', '_id': 'lst2020.04.01', 'curatedBy': {'@type': 'Organization', 'identifier': 'covid19LST', 'url': 'https://www.covid19lst.org/', 'name': 'COVID-19 Literature Surveillance Team', 'affiliation': '', 'curationDate': '2020-09-25'}, 'abstract': 'Analytical reviews on the level of evidence presented in publications. This report specifically covers the following publications: pmid32107119, pmid32223077, pmid32208987, pmid32232976, pmid32232429, pmid32232648, pmid32233018, pmid32232837, pmid32215952, pmid32232986, pmid32232980', 'name': 'Covid-19 LST Report 2020.04.01', 'datePublished': '20-04-01', 'url': 'https://www.covid19lst.org/post/april-1-daily-covid-19-lst-report', 'author': [{'@type': 'Organization', 'identifier': 'covid19LST', 'url': 'https://www.covid19lst.org/', 'name': 'COVID-19 Literature Surveillance Team', 'affiliation': '', 'members': [{'name': 'Will Smith', 'givenName': 'Will', 'familyName': 'Smith', 'affiliation': [{'name': 'Teton County Search and Rescue'}, {'name': 'USFS-BTNF'}, {'name': 'University of Washington School of Medicine'}, {'name': 'St. John’s Health'}, {'name': 'US Army Reserve'}]}, {'name': 'Erin Hartnett', 'givenName': 'Erin', 'familyName': 'Hartnett', 'affiliation': [{'name': 'University of Arizona, College of Medicine - Phoenix'}]}, {'name': 'Emily Nelson', 'givenName': 'Emily', 'familyName': 'Nelson', 'affiliation': [{'name': 'Bernhard Nocht Institute for Tropical Medicine'}]}, {'name': 'Kealapono Richardson', 'givenName': 'Kealapono', 'familyName': 'Richardson', 'affiliation': [{'name': 'Hawaii State Senate'}, {'name': 'TogetherWExpand.org'}]}, {'name': 'Brennan Enright', 'givenName': 'Brennan', 'familyName': 'Enright', 'affiliation': [{'name': 'University of Arizona, College of Medicine - Phoenix'}]}, {'name': 'Kyle Ellingsen', 'givenName': 'Kyle', 'familyName': 'Ellingsen', 'affiliation': [{'name': 'University of Washington, School of Medicine'}]}, {'name': 'Kathleen Hanlon', 'givenName': 'Kathleen', 'familyName': 'Hanlon', 'affiliation': [{'name': 'University of Arizona, College of Medicine - Phoenix'}]}, {'name': 'Ann Staudinger Knoll', 'givenName': 'Ann', 'familyName': 'Staudinger Knoll', 'affiliation': [{'name': 'University of Arizona, College of Medicine - Phoenix'}]}, {'name': 'Stephen Ferraro', 'givenName': 'Stephen', 'familyName': 'Ferraro', 'affiliation': [{'name': 'University of Washington, School of Medicine'}]}, {'name': 'Jenny Jensen', 'givenName': 'Jenny', 'familyName': 'Jensen', 'affiliation': [{'name': 'University of Washington, School of Medicine'}]}, {'name': 'Cameron Richards', 'givenName': 'Cameron', 'familyName': 'Richards', 'affiliation': [{'name': 'Idaho College of Osteopathic Medicine'}]}, {'name': 'Daniel Lee', 'givenName': 'Daniel', 'familyName': 'Lee', 'affiliation': [{'name': 'University of Washington, School of Medicine'}]}, {'name': 'Luke Johnson', 'givenName': 'Luke', 'familyName': 'Johnson', 'affiliation': [{'name': 'University of Washington, School of Medicine'}]}, {'name': 'Akshara Malla', 'givenName': 'Akshara', 'familyName': 'Malla', 'affiliation': [{'name': 'University of Arizona, College of Medicine - Phoenix'}]}, {'name': 'Amanda Nguyen', 'givenName': 'Amanda', 'familyName': 'Nguyen', 'affiliation': [{'name': 'University of Washington, School of Medicine'}]}, {'name': 'Celina Virgen', 'givenName': 'Celina', 'familyName': 'Virgen', 'affiliation': [{'name': 'University of Arizona, College of Medicine - Phoenix'}]}, {'name': 'Colin Bartz-Overman', 'givenName': 'Colin', 'familyName': 'Bartz-Overman', 'affiliation': [{'name': 'University of Washington, School of Medicine'}]}, {'name': 'Jeremiah Sims', 'givenName': 'Jeremiah', 'familyName': 'Sims', 'affiliation': [{'name': 'University of Washington, School of Medicine'}]}, {'name': 'Julia Ghering', 'givenName': 'Julia', 'familyName': 'Ghering', 'affiliation': [{'name': 'University of Arizona, College of Medicine - Phoenix'}]}, {'name': 'Kylie Jenkins', 'givenName': 'Kylie', 'familyName': 'Jenkins', 'affiliation': [{'name': 'University of Arizona, College of Medicine - Phoenix'}]}, {'name': 'Marjorie Thompson', 'givenName': 'Marjorie', 'familyName': 'Thompson', 'affiliation': [{'name': 'University of Washington, School of Medicine'}]}, {'name': 'Meleighe Sloss', 'givenName': 'Meleighe', 'familyName': 'Sloss', 'affiliation': [{'name': 'University of Arizona, College of Medicine - Tucson'}]}, {'name': 'Nour Bundogji', 'givenName': 'Nour', 'familyName': 'Bundogji', 'affiliation': [{'name': 'University of Arizona, College of Medicine - Phoenix'}]}, {'name': 'Sameer Kandula', 'givenName': 'Sameer', 'familyName': 'Kandula', 'affiliation': [{'name': 'University of Arizona, College of Medicine - Phoenix'}]}, {'name': 'Shandiin Sam', 'givenName': 'Shandiin', 'familyName': 'Sam', 'affiliation': [{'name': 'University of Arizona, College of Medicine - Phoenix'}]}, {'name': 'Sokena Zaidi', 'givenName': 'Sokena', 'familyName': 'Zaidi', 'affiliation': [{'name': 'University of Arizona, College of Medicine - Phoenix'}]}, {'name': 'Jasmine Rah', 'givenName': 'Jasmine', 'familyName': 'Rah', 'affiliation': [{'name': 'University of Washington, School of Medicine'}]}, {'name': 'Thamana Nishath', 'givenName': 'Thamana', 'familyName': 'Nishath', 'affiliation': [{'name': 'University of Washington, School of Medicine'}]}, {'name': 'Samuel Philbrick', 'givenName': 'Samuel', 'familyName': 'Philbrick', 'affiliation': [{'name': 'Elmendorf Airforce Base, AK'}]}, {'name': 'Jackson Schmidt', 'givenName': 'Jackson', 'familyName': 'Schmidt', 'affiliation': [{'name': 'University of Washington, School of Medicine'}]}, {'name': 'Michelle Arnold', 'givenName': 'Michelle', 'familyName': 'Arnold', 'affiliation': [{'name': 'University of Arizona, College of Medicine - Phoenix'}]}, {'name': 'Allison Hansen', 'givenName': 'Allison', 'familyName': 'Hansen', 'affiliation': [{'name': 'University of Arizona, College of Medicine - Phoenix'}]}, {'name': 'Zainab Khan ', 'givenName': 'Zainab', 'familyName': 'Khan', 'affiliation': [{'name': 'University of Arizona, College of Medicine - Phoenix'}]}, {'name': 'Sangeetha Thevuthasan', 'givenName': 'Sangeetha', 'familyName': 'Thevuthasan', 'affiliation': [{'name': 'University of Washington, School of Medicine'}]}, {'name': 'Maggie Donovan', 'givenName': 'Maggie', 'familyName': 'Donovan', 'affiliation': [{'name': 'University of Arizona, College of Medicine - Phoenix'}]}, {'name': 'Kersti Bellardi', 'givenName': 'Kersti', 'familyName': 'Bellardi', 'affiliation': [{'name': 'Western University Health Sciences'}]}, {'name': 'Avery Forrow', 'givenName': 'Avery', 'familyName': 'Forrow', 'affiliation': [{'name': 'University of Washington, School of Medicine'}]}, {'name': 'Diep Nguyen', 'givenName': 'Diep', 'familyName': 'Nguyen', 'affiliation': [{'name': 'University of Arizona, College of Medicine - Phoenix'}]}, {'name': 'Abel De Castro', 'givenName': 'Abel', 'familyName': 'De Castro', 'affiliation': [{'name': 'University of Arizona, College of Medicine - Phoenix'}]}, {'name': 'Allen Doan', 'givenName': 'Allen', 'familyName': 'Doan', 'affiliation': [{'name': 'University of Arizona, College of Medicine - Phoenix'}]}, {'name': 'Bhupinder Kaur', 'givenName': 'Bhupinder', 'familyName': 'Kaur', 'affiliation': [{'name': 'University of Arizona, College of Medicine - Phoenix'}]}, {'name': 'Charlotte Archuleta', 'givenName': 'Charlotte', 'familyName': 'Archuleta', 'affiliation': [{'name': 'University of Arizona, College of Medicine - Phoenix'}]}, {'name': 'David Cvancara', 'givenName': 'David', 'familyName': 'Cvancara', 'affiliation': [{'name': 'University of Washington, School of Medicine'}]}, {'name': 'John Michael Sherman', 'givenName': 'John Michael', 'familyName': 'Sherman', 'affiliation': [{'name': 'University of Arizona, College of Medicine - Phoenix'}]}, {'name': 'Julie Tran', 'givenName': 'Julie', 'familyName': 'Tran', 'affiliation': [{'name': 'University of Arizona, College of Medicine - Phoenix'}]}, {'name': 'Lyndsay Kandi', 'givenName': 'Lyndsay', 'familyName': 'Kandi', 'affiliation': [{'name': 'University of Arizona, College of Medicine - Tuscon'}]}, {'name': 'Marzia Shah', 'givenName': 'Marzia', 'familyName': 'Shah', 'affiliation': [{'name': 'University of Arizona, College of Medicine - Phoenix'}]}, {'name': 'Michael Olson', 'givenName': 'Michael', 'familyName': 'Olson', 'affiliation': [{'name': 'University of Arizona, College of Medicine - Phoenix'}]}, {'name': 'Rechel Geiger', 'givenName': 'Rechel', 'familyName': 'Geiger', 'affiliation': [{'name': 'University of Washington, School of Medicine'}]}, {'name': 'Sara Rutz', 'givenName': 'Sara', 'familyName': 'Rutz', 'affiliation': [{'name': 'University of Washington, School of Medicine'}]}, {'name': 'Simran Mand', 'givenName': 'Simran', 'familyName': 'Mand', 'affiliation': [{'name': 'University of Washington, School of Medicine'}]}, {'name': 'Taylor Bozich', 'givenName': 'Taylor', 'familyName': 'Bozich', 'affiliation': [{'name': 'University of Washington, School of Medicine'}]}]}], 'isBasedOn': [{'_id': 'pmid32107119', 'name': 'Coronavirus Disease 2019: Coronaviruses and Blood Safety.', 'url': 'https://www.doi.org/10.1016/j.tmrv.2020.02.003'}, {'_id': 'pmid32223077', 'name': 'Neuroinfection may contribute to pathophysiology and clinical manifestations of COVID-19.', 'url': 'https://www.doi.org/10.1111/apha.13473'}, {'_id': 'pmid32208987', 'name': 'Renin-Angiotensin System Blockers and the COVID-19 Pandemic: At Present There Is No Evidence to Abandon Renin-Angiotensin System Blockers.', 'url': 'https://www.doi.org/10.1161/HYPERTENSIONAHA.120.15082'}, {'_id': 'pmid32232976', 'name': 'CD-sACE2 inclusion compounds: An effective treatment for coronavirus disease 2019 (COVID-19).', 'url': 'https://www.doi.org/10.1002/jmv.25804'}, {'_id': 'pmid32232429', 'name': 'Computed Tomographic Imaging of 3 Patients With Coronavirus Disease 2019 Pneumonia With Negative Virus Real-time Reverse-Transcription Polymerase Chain Reaction Test.', 'url': 'https://www.doi.org/10.1093/cid/ciaa207'}, {'_id': 'pmid32232648', 'name': 'Diagnostic performance of chest CT to differentiate COVID-19 pneumonia in non-high-epidemic area in Japan.', 'url': 'https://www.doi.org/10.1007/s11604-020-00958-w'}, {'_id': 'pmid32233018', 'name': 'Covid-19 and diabetes mellitus: unveiling the interaction of two pandemics.', 'url': 'https://www.doi.org/10.1002/dmrr.3321'}, {'_id': 'pmid32208987', 'name': 'Renin-Angiotensin System Blockers and the COVID-19 Pandemic: At Present There Is No Evidence to Abandon Renin-Angiotensin System Blockers.', 'url': 'https://www.doi.org/10.1161/HYPERTENSIONAHA.120.15082'}, {'_id': 'pmid32107119', 'name': 'Coronavirus Disease 2019: Coronaviruses and Blood Safety.', 'url': 'https://www.doi.org/10.1016/j.tmrv.2020.02.003'}, {'_id': 'pmid32232837', 'name': 'Headaches Associated With Personal Protective Equipment - A Cross-Sectional Study Among Frontline Healthcare Workers During COVID-19.', 'url': 'https://www.doi.org/10.1111/head.13811'}, {'_id': 'pmid32215952', 'name': 'Cutaneous manifestations in COVID-19: a first perspective.', 'url': 'https://www.doi.org/10.1111/jdv.16387'}, {'_id': 'pmid32232986', 'name': 'Potential utilities of mask-wearing and instant hand hygiene for fighting SARS-CoV-2.', 'url': 'https://www.doi.org/10.1002/jmv.25805'}, {'_id': 'pmid32232980', 'name': 'COVID-19 epidemic: Disease characteristics in children.', 'url': 'https://www.doi.org/10.1002/jmv.25807'}]}\n"
     ]
    },
    {
     "name": "stdout",
     "output_type": "stream",
     "text": [
      "{'@context': {'schema': 'http://schema.org/', 'outbreak': 'https://discovery.biothings.io/view/outbreak/'}, '@type': 'Publication', 'journalName': 'COVID-19 LST Daily Summary Reports', 'journalNameAbbreviation': 'covid19LST', 'publicationType': 'Review', 'license': '(CC BY-NC-SA 4.0) (http://creativecommons.org/licenses/by-nc-sa/4.0/)', '_id': 'lst2020.04.02', 'curatedBy': {'@type': 'Organization', 'identifier': 'covid19LST', 'url': 'https://www.covid19lst.org/', 'name': 'COVID-19 Literature Surveillance Team', 'affiliation': '', 'curationDate': '2020-09-25'}, 'abstract': 'Analytical reviews on the level of evidence presented in publications. This report specifically covers the following publications: pmid32229155, pmid32229257, pmid32229732, pmid32226289, pmid32229706, pmid32233040, pmid32231349, pmid32237278', 'name': 'Covid-19 LST Report 2020.04.02', 'datePublished': '20-04-02', 'url': 'https://www.covid19lst.org/post/april-2-daily-covid-19-lst-report', 'author': [{'@type': 'Organization', 'identifier': 'covid19LST', 'url': 'https://www.covid19lst.org/', 'name': 'COVID-19 Literature Surveillance Team', 'affiliation': '', 'members': [{'name': 'Will Smith', 'givenName': 'Will', 'familyName': 'Smith', 'affiliation': [{'name': 'Teton County Search and Rescue'}, {'name': 'USFS-BTNF'}, {'name': 'University of Washington School of Medicine'}, {'name': 'St. John’s Health'}, {'name': 'US Army Reserve'}]}, {'name': 'Erin Hartnett', 'givenName': 'Erin', 'familyName': 'Hartnett', 'affiliation': [{'name': 'University of Arizona, College of Medicine - Phoenix'}]}, {'name': 'Emily Nelson', 'givenName': 'Emily', 'familyName': 'Nelson', 'affiliation': [{'name': 'Bernhard Nocht Institute for Tropical Medicine'}]}, {'name': 'Kealapono Richardson', 'givenName': 'Kealapono', 'familyName': 'Richardson', 'affiliation': [{'name': 'Hawaii State Senate'}, {'name': 'TogetherWExpand.org'}]}, {'name': 'Brennan Enright', 'givenName': 'Brennan', 'familyName': 'Enright', 'affiliation': [{'name': 'University of Arizona, College of Medicine - Phoenix'}]}, {'name': 'Kyle Ellingsen', 'givenName': 'Kyle', 'familyName': 'Ellingsen', 'affiliation': [{'name': 'University of Washington, School of Medicine'}]}, {'name': 'Kathleen Hanlon', 'givenName': 'Kathleen', 'familyName': 'Hanlon', 'affiliation': [{'name': 'University of Arizona, College of Medicine - Phoenix'}]}, {'name': 'Ann Staudinger Knoll', 'givenName': 'Ann', 'familyName': 'Staudinger Knoll', 'affiliation': [{'name': 'University of Arizona, College of Medicine - Phoenix'}]}, {'name': 'Stephen Ferraro', 'givenName': 'Stephen', 'familyName': 'Ferraro', 'affiliation': [{'name': 'University of Washington, School of Medicine'}]}, {'name': 'Jenny Jensen', 'givenName': 'Jenny', 'familyName': 'Jensen', 'affiliation': [{'name': 'University of Washington, School of Medicine'}]}, {'name': 'Cameron Richards', 'givenName': 'Cameron', 'familyName': 'Richards', 'affiliation': [{'name': 'Idaho College of Osteopathic Medicine'}]}, {'name': 'Daniel Lee', 'givenName': 'Daniel', 'familyName': 'Lee', 'affiliation': [{'name': 'University of Washington, School of Medicine'}]}, {'name': 'Luke Johnson', 'givenName': 'Luke', 'familyName': 'Johnson', 'affiliation': [{'name': 'University of Washington, School of Medicine'}]}, {'name': 'Akshara Malla', 'givenName': 'Akshara', 'familyName': 'Malla', 'affiliation': [{'name': 'University of Arizona, College of Medicine - Phoenix'}]}, {'name': 'Amanda Nguyen', 'givenName': 'Amanda', 'familyName': 'Nguyen', 'affiliation': [{'name': 'University of Washington, School of Medicine'}]}, {'name': 'Celina Virgen', 'givenName': 'Celina', 'familyName': 'Virgen', 'affiliation': [{'name': 'University of Arizona, College of Medicine - Phoenix'}]}, {'name': 'Colin Bartz-Overman', 'givenName': 'Colin', 'familyName': 'Bartz-Overman', 'affiliation': [{'name': 'University of Washington, School of Medicine'}]}, {'name': 'Jeremiah Sims', 'givenName': 'Jeremiah', 'familyName': 'Sims', 'affiliation': [{'name': 'University of Washington, School of Medicine'}]}, {'name': 'Julia Ghering', 'givenName': 'Julia', 'familyName': 'Ghering', 'affiliation': [{'name': 'University of Arizona, College of Medicine - Phoenix'}]}, {'name': 'Kylie Jenkins', 'givenName': 'Kylie', 'familyName': 'Jenkins', 'affiliation': [{'name': 'University of Arizona, College of Medicine - Phoenix'}]}, {'name': 'Marjorie Thompson', 'givenName': 'Marjorie', 'familyName': 'Thompson', 'affiliation': [{'name': 'University of Washington, School of Medicine'}]}, {'name': 'Meleighe Sloss', 'givenName': 'Meleighe', 'familyName': 'Sloss', 'affiliation': [{'name': 'University of Arizona, College of Medicine - Tucson'}]}, {'name': 'Nour Bundogji', 'givenName': 'Nour', 'familyName': 'Bundogji', 'affiliation': [{'name': 'University of Arizona, College of Medicine - Phoenix'}]}, {'name': 'Sameer Kandula', 'givenName': 'Sameer', 'familyName': 'Kandula', 'affiliation': [{'name': 'University of Arizona, College of Medicine - Phoenix'}]}, {'name': 'Shandiin Sam', 'givenName': 'Shandiin', 'familyName': 'Sam', 'affiliation': [{'name': 'University of Arizona, College of Medicine - Phoenix'}]}, {'name': 'Sokena Zaidi', 'givenName': 'Sokena', 'familyName': 'Zaidi', 'affiliation': [{'name': 'University of Arizona, College of Medicine - Phoenix'}]}, {'name': 'Jasmine Rah', 'givenName': 'Jasmine', 'familyName': 'Rah', 'affiliation': [{'name': 'University of Washington, School of Medicine'}]}, {'name': 'Thamana Nishath', 'givenName': 'Thamana', 'familyName': 'Nishath', 'affiliation': [{'name': 'University of Washington, School of Medicine'}]}, {'name': 'Samuel Philbrick', 'givenName': 'Samuel', 'familyName': 'Philbrick', 'affiliation': [{'name': 'Elmendorf Airforce Base, AK'}]}, {'name': 'Jackson Schmidt', 'givenName': 'Jackson', 'familyName': 'Schmidt', 'affiliation': [{'name': 'University of Washington, School of Medicine'}]}, {'name': 'Michelle Arnold', 'givenName': 'Michelle', 'familyName': 'Arnold', 'affiliation': [{'name': 'University of Arizona, College of Medicine - Phoenix'}]}, {'name': 'Allison Hansen', 'givenName': 'Allison', 'familyName': 'Hansen', 'affiliation': [{'name': 'University of Arizona, College of Medicine - Phoenix'}]}, {'name': 'Zainab Khan ', 'givenName': 'Zainab', 'familyName': 'Khan', 'affiliation': [{'name': 'University of Arizona, College of Medicine - Phoenix'}]}, {'name': 'Sangeetha Thevuthasan', 'givenName': 'Sangeetha', 'familyName': 'Thevuthasan', 'affiliation': [{'name': 'University of Washington, School of Medicine'}]}, {'name': 'Maggie Donovan', 'givenName': 'Maggie', 'familyName': 'Donovan', 'affiliation': [{'name': 'University of Arizona, College of Medicine - Phoenix'}]}, {'name': 'Kersti Bellardi', 'givenName': 'Kersti', 'familyName': 'Bellardi', 'affiliation': [{'name': 'Western University Health Sciences'}]}, {'name': 'Avery Forrow', 'givenName': 'Avery', 'familyName': 'Forrow', 'affiliation': [{'name': 'University of Washington, School of Medicine'}]}, {'name': 'Diep Nguyen', 'givenName': 'Diep', 'familyName': 'Nguyen', 'affiliation': [{'name': 'University of Arizona, College of Medicine - Phoenix'}]}, {'name': 'Abel De Castro', 'givenName': 'Abel', 'familyName': 'De Castro', 'affiliation': [{'name': 'University of Arizona, College of Medicine - Phoenix'}]}, {'name': 'Allen Doan', 'givenName': 'Allen', 'familyName': 'Doan', 'affiliation': [{'name': 'University of Arizona, College of Medicine - Phoenix'}]}, {'name': 'Bhupinder Kaur', 'givenName': 'Bhupinder', 'familyName': 'Kaur', 'affiliation': [{'name': 'University of Arizona, College of Medicine - Phoenix'}]}, {'name': 'Charlotte Archuleta', 'givenName': 'Charlotte', 'familyName': 'Archuleta', 'affiliation': [{'name': 'University of Arizona, College of Medicine - Phoenix'}]}, {'name': 'David Cvancara', 'givenName': 'David', 'familyName': 'Cvancara', 'affiliation': [{'name': 'University of Washington, School of Medicine'}]}, {'name': 'John Michael Sherman', 'givenName': 'John Michael', 'familyName': 'Sherman', 'affiliation': [{'name': 'University of Arizona, College of Medicine - Phoenix'}]}, {'name': 'Julie Tran', 'givenName': 'Julie', 'familyName': 'Tran', 'affiliation': [{'name': 'University of Arizona, College of Medicine - Phoenix'}]}, {'name': 'Lyndsay Kandi', 'givenName': 'Lyndsay', 'familyName': 'Kandi', 'affiliation': [{'name': 'University of Arizona, College of Medicine - Tuscon'}]}, {'name': 'Marzia Shah', 'givenName': 'Marzia', 'familyName': 'Shah', 'affiliation': [{'name': 'University of Arizona, College of Medicine - Phoenix'}]}, {'name': 'Michael Olson', 'givenName': 'Michael', 'familyName': 'Olson', 'affiliation': [{'name': 'University of Arizona, College of Medicine - Phoenix'}]}, {'name': 'Rechel Geiger', 'givenName': 'Rechel', 'familyName': 'Geiger', 'affiliation': [{'name': 'University of Washington, School of Medicine'}]}, {'name': 'Sara Rutz', 'givenName': 'Sara', 'familyName': 'Rutz', 'affiliation': [{'name': 'University of Washington, School of Medicine'}]}, {'name': 'Simran Mand', 'givenName': 'Simran', 'familyName': 'Mand', 'affiliation': [{'name': 'University of Washington, School of Medicine'}]}, {'name': 'Taylor Bozich', 'givenName': 'Taylor', 'familyName': 'Bozich', 'affiliation': [{'name': 'University of Washington, School of Medicine'}]}]}], 'isBasedOn': [{'_id': 'pmid32229155', 'name': 'Can Bioactive Lipids Inactivate Coronavirus (COVID-19)?', 'url': 'https://www.doi.org/10.1016/j.arcmed.2020.03.004'}, {'_id': 'pmid32229257', 'name': 'Risk-adapted Treatment Strategy For COVID-19 Patients.', 'url': 'https://www.doi.org/10.1016/j.ijid.2020.03.047'}, {'_id': 'pmid32229732', 'name': 'Coronavirus Disease 19 Infection Does Not Result in Acute Kidney Injury: An Analysis of 116 Hospitalized Patients from Wuhan, China.', 'url': 'https://www.doi.org/10.1159/000507471'}, {'_id': 'pmid32226289', 'name': 'Perspectives on therapeutic neutralizing antibodies against the Novel Coronavirus SARS-CoV-2.', 'url': 'https://www.doi.org/10.7150/ijbs.45123'}, {'_id': 'pmid32229706', 'name': 'COVID-19 and chronological aging: senolytics and other anti-aging drugs for the treatment or prevention of corona virus infection?', 'url': 'https://www.doi.org/10.18632/aging.103001'}, {'_id': 'pmid32233040', 'name': 'Intranasal corticosteroids in allergic rhinitis in COVID-19 infected patients: An ARIA-EAACI statement.', 'url': 'https://www.doi.org/10.1111/all.14302'}, {'_id': 'pmid32231349', 'name': 'Chloroquine in COVID-19: the evidence.', 'url': 'https://www.doi.org/10.4081/monaldi.2020.1290'}, {'_id': 'pmid32237278', 'name': 'Isolation and rapid sharing of the 2019 novel coronavirus (SARS-CoV-2) from the first patient diagnosed with COVID-19 in Australia.', 'url': 'https://www.doi.org/10.5694/mja2.50569'}, {'_id': 'pmid32229706', 'name': 'COVID-19 and chronological aging: senolytics and other anti-aging drugs for the treatment or prevention of corona virus infection?', 'url': 'https://www.doi.org/10.18632/aging.103001'}]}\n"
     ]
    }
   ],
   "source": [
    "dumpdir = 'data/reports/'\n",
    "filelist = os.listdir(dumpdir)\n",
    "testlist = filelist[0:2]\n",
    "metadict = generate_report_meta(testlist)\n",
    "for eachdict in metadict:\n",
    "    print(eachdict)"
   ]
  },
  {
   "cell_type": "markdown",
   "metadata": {},
   "source": [
    "## Download PDFs from google drive\n",
    "\n",
    "https://drive.google.com/drive/folders/1603ahBNdt1SnSaYYBE-G8SA6qgRTQ6fF\n",
    "\n",
    "but only if they were uploaded after a specific date. The reason for this is that prior to 2020.09.11, there was variability in the file naming and file names were sometimes incorrect (202080 instead of 202008). These have been manually corrected in the initial dump, but are otherwise still incorrect in the google drive.\n",
    "\n",
    "Note that this script uses the googledrive api which requires authentification even when accessing a public google drive. To fulfill this requirement without needing to manually log in, credentials from a service account are needed  The googledrive API is only used to read the files in the drive so that the newest ones (by date) can be identified, and their id's taken.\n",
    "\n",
    "Additionally the the pydrive2 library (use to access the google drive api) sometimes has trouble finding the client_secrets.json file, so you may need to manually point to it.\n",
    "\n",
    "The downloader uses the GoogleDriveDownloader library which is based off of requests and should not require the google drive api."
   ]
  },
  {
   "cell_type": "code",
   "execution_count": 1,
   "metadata": {},
   "outputs": [],
   "source": [
    "## This function identifies files uploaded after 2020.09.11 that have NOT yet been downloaded\n",
    "## Note that this is the function if a service account is not available. It requires a login\n",
    "\n",
    "def check_google():\n",
    "    from pydrive2.auth import GoogleAuth\n",
    "    from pydrive2.drive import GoogleDrive\n",
    "\n",
    "    GoogleAuth.DEFAULT_SETTINGS['client_config_file'] = 'client_secrets.json' ##point to secrets file location\n",
    "    gauth = GoogleAuth()\n",
    "    #gauth.LocalWebserverAuth()\n",
    "\n",
    "    drive = GoogleDrive(gauth)\n",
    "    file_id = '1603ahBNdt1SnSaYYBE-G8SA6qgRTQ6fF'\n",
    "    file_list = drive.ListFile({'q': \"'%s' in parents and trashed=false\" % file_id}).GetList()\n",
    "    \n",
    "    df = pandas.DataFrame(file_list)\n",
    "    dfclean = df[['createdDate','id','title']].copy()\n",
    "    dfclean['date'] = pandas.to_datetime(dfclean['createdDate'],format='%Y-%m-%d', errors='coerce')\n",
    "    lastupdate = dfclean.loc[dfclean['createdDate']=='2020-09-11T01:53:29.639Z'].iloc[0]['date']\n",
    "    dfnew = dfclean.loc[dfclean['date']>lastupdate]\n",
    "    \n",
    "    all_files = os.listdir('data/reports/')\n",
    "    new_files = [item  for item in all_files if item not in dfnew['title'].unique().tolist()]\n",
    "    reportdf = dfnew.loc[dfnew['title'].isin(new_files)]\n",
    "    return(reportdf)"
   ]
  },
  {
   "cell_type": "code",
   "execution_count": 3,
   "metadata": {},
   "outputs": [
    {
     "name": "stdout",
     "output_type": "stream",
     "text": [
      "         kind                                 id                  etag  \\\n",
      "0  drive#file  1EyccnGO2UOun668cv4ddE6kg4jggm31J  \"MTYwMDQ0OTE5MTAwMA\"   \n",
      "1  drive#file  1fxpNQRGhg8UNBIzSEBDKD0m-DjSB-1fE  \"MTYwMDM5NDk3MDAwMA\"   \n",
      "\n",
      "                                            selfLink  \\\n",
      "0  https://www.googleapis.com/drive/v2/files/1Eyc...   \n",
      "1  https://www.googleapis.com/drive/v2/files/1fxp...   \n",
      "\n",
      "                                      webContentLink  \\\n",
      "0  https://drive.google.com/uc?id=1EyccnGO2UOun66...   \n",
      "1  https://drive.google.com/uc?id=1fxpNQRGhg8UNBI...   \n",
      "\n",
      "                                       alternateLink  \\\n",
      "0  https://drive.google.com/file/d/1EyccnGO2UOun6...   \n",
      "1  https://drive.google.com/file/d/1fxpNQRGhg8UNB...   \n",
      "\n",
      "                                           embedLink  \\\n",
      "0  https://drive.google.com/file/d/1EyccnGO2UOun6...   \n",
      "1  https://drive.google.com/file/d/1fxpNQRGhg8UNB...   \n",
      "\n",
      "                                            iconLink  \\\n",
      "0  https://drive-thirdparty.googleusercontent.com...   \n",
      "1  https://drive-thirdparty.googleusercontent.com...   \n",
      "\n",
      "                                       thumbnailLink  \\\n",
      "0  https://lh3.googleusercontent.com/bgcvSn-sQnnH...   \n",
      "1  https://lh3.googleusercontent.com/HW2RXRkoSq2F...   \n",
      "\n",
      "                                    title  ...  \\\n",
      "0  20200918 The COVID-19 Daily Report.pdf  ...   \n",
      "1  20200917 The COVID-19 Daily Report.pdf  ...   \n",
      "\n",
      "                          capabilities editable  copyable writersCanShare  \\\n",
      "0  {'canCopy': True, 'canEdit': False}    False      True            True   \n",
      "1  {'canCopy': True, 'canEdit': False}    False      True            True   \n",
      "\n",
      "  shared explicitlyTrashed appDataContents  \\\n",
      "0   True             False           False   \n",
      "1   True             False           False   \n",
      "\n",
      "                                      headRevisionId   spaces exportLinks  \n",
      "0  0Bz4ifkSdU_1dU3FJZGFuN0xKRml6YWl4TEZUN3YvU0pZW...  [drive]         NaN  \n",
      "1  0B0FA6-NbD0WZVUVnWlFFNUhseFhXQjNFcU5LVXVFNnJFL...  [drive]         NaN  \n",
      "\n",
      "[2 rows x 39 columns]\n"
     ]
    }
   ],
   "source": [
    "## This function identifies files uploaded after 2020.09.11 that have NOT yet been downloaded\n",
    "## Note that this is the function if a service account IS available. \n",
    "def check_google():\n",
    "    from pydrive2.auth import GoogleAuth\n",
    "    from pydrive2.drive import GoogleDrive\n",
    "    from pydrive2.auth import ServiceAccountCredentials\n",
    "    \n",
    "    gauth = GoogleAuth()\n",
    "    scope = ['https://www.googleapis.com/auth/drive']\n",
    "    gauth.credentials = ServiceAccountCredentials.from_json_keyfile_name('credentials.json', scope)\n",
    "    drive = GoogleDrive(gauth)\n",
    "    file_id = '1603ahBNdt1SnSaYYBE-G8SA6qgRTQ6fF'\n",
    "    file_list = drive.ListFile({'q': \"'%s' in parents and trashed=false\" % file_id}).GetList()\n",
    "    \n",
    "    df = pandas.DataFrame(file_list)\n",
    "    dfclean = df[['createdDate','id','title']].copy()\n",
    "    dfclean['date'] = pandas.to_datetime(dfclean['createdDate'],format='%Y-%m-%d', errors='coerce')\n",
    "    lastupdate = dfclean.loc[dfclean['createdDate']=='2020-09-11T01:53:29.639Z'].iloc[0]['date']\n",
    "    dfnew = dfclean.loc[dfclean['date']>lastupdate]\n",
    "    \n",
    "    all_files = os.listdir('data/reports/')\n",
    "    new_files = [item  for item in all_files if item not in dfnew['title'].unique().tolist()]\n",
    "    reportdf = dfnew.loc[dfnew['title'].isin(new_files)]\n",
    "    return(reportdf)"
   ]
  },
  {
   "cell_type": "code",
   "execution_count": null,
   "metadata": {},
   "outputs": [],
   "source": [
    "## This is the function to actually conduct the download\n",
    "def download_reports(reportdf):\n",
    "    from google_drive_downloader import GoogleDriveDownloader as gdd\n",
    "    for i in range(len(dfnew)):\n",
    "        title = reportdf.iloc[i]['title']\n",
    "        eachid = reportdf.iloc[i]['id']\n",
    "        gdd.download_file_from_google_drive(file_id=eachid,\n",
    "                                            dest_path='data/reports/'+title,\n",
    "                                            unzip=False)    "
   ]
  },
  {
   "cell_type": "code",
   "execution_count": null,
   "metadata": {},
   "outputs": [],
   "source": [
    "## Run the functions\n",
    "reportdf = check_google()\n",
    "download_reports(reportdf)\n"
   ]
  },
  {
   "cell_type": "code",
   "execution_count": null,
   "metadata": {},
   "outputs": [],
   "source": [
    "def update_reports():\n",
    "    reportdf = check_google()\n",
    "    download_reports(reportdf)\n",
    "    dumpdir = 'data/reports/'\n",
    "    filelist = os.listdir(dumpdir)\n",
    "    metadict = generate_report_meta(filelist)\n",
    "    yield from(metadict)"
   ]
  },
  {
   "cell_type": "code",
   "execution_count": null,
   "metadata": {},
   "outputs": [],
   "source": [
    "def load_annotations():\n",
    "    run_loe_update()\n",
    "    report_dicts = update_reports()\n",
    "    yield from (report_dicts)"
   ]
  },
  {
   "cell_type": "markdown",
   "metadata": {},
   "source": [
    "## Parse the data dump\n",
    "\n",
    "Note that this code still needs a downloader to pull data from either github or google drive"
   ]
  },
  {
   "cell_type": "code",
   "execution_count": null,
   "metadata": {},
   "outputs": [],
   "source": [
    "def fix_keywords(keywordstring):\n",
    "    if keywordstring != keywordstring: ## Is it Nan?\n",
    "        keywordlist = []\n",
    "    elif keywordstring ==\"\": ## Is it an empty string?\n",
    "        keywordlist = []\n",
    "    elif keywordstring == None: ## Is there no keywordstring?\n",
    "        keywordlist = []\n",
    "    else:\n",
    "        keywordlist = keywordstring.lstrip('[').rstrip(']').replace('\"','').split(',')\n",
    "    return(keywordlist)"
   ]
  },
  {
   "cell_type": "code",
   "execution_count": null,
   "metadata": {},
   "outputs": [],
   "source": [
    "def generate_lst_dump(datadmp):\n",
    "    cleandata = []\n",
    "    authorObject = generate_author()\n",
    "    authorObject.pop('members')\n",
    "    datadmp['_id'] = 'pmid'+datadmp['PMID'].astype(str)  \n",
    "    for i in range(len(datadmp)):\n",
    "        keywordlist = fix_keywords(datadmp.iloc[i]['Topics'])\n",
    "        tmpdict={'_id':datadmp.iloc[i]['_id'],'keywords':keywordlist,\n",
    "                 'covid19LST':{'@type':'Rating',\n",
    "                                 'ratingExplanation':datadmp.iloc[i]['Methodology'],\n",
    "                                 'ratingValue':datadmp.iloc[i]['LevelOfEvidence'],\n",
    "                                 'reviewAspect':'Oxford 2011 Levels of Evidence',\n",
    "                                 'author':authorObject}}\n",
    "        cleandata.append(tmpdict)\n",
    "    return(cleandata)"
   ]
  },
  {
   "cell_type": "code",
   "execution_count": null,
   "metadata": {},
   "outputs": [],
   "source": [
    "def update_filelist():\n",
    "    all_files = os.listdir('data/tables/')\n",
    "    updatefiles = all_files.remove('COVID-19 LST Data.csv')\n",
    "    initial_file = 'data/tables/COVID-19 LST Data.csv'\n",
    "    df = read_csv(initial_file,header=0,usecols=['PMID','Topics','LevelOfEvidence','Methodology','Updated Date'])\n",
    "    if updatefiles!=None:\n",
    "        for eachfile in updatefiles:\n",
    "            tmpfile = read_csv('data/tables/'+eachfile,header=0,usecols=['PMID','Topics','LevelOfEvidence','Methodology','Updated Date'])\n",
    "            df = pandas.concat((df,tmpfile),ignore_index=True)\n",
    "    else:\n",
    "        nochange=True\n",
    "    df.sort_values('Updated Date',ascending=False,inplace=True)\n",
    "    df.drop_duplicates(subset='PMID',keep='first',inplace=True)\n",
    "    return(df)    "
   ]
  },
  {
   "cell_type": "code",
   "execution_count": null,
   "metadata": {},
   "outputs": [],
   "source": [
    "## Run an update\n",
    "\n",
    "def run_loe_update():\n",
    "    datadmp = update_filelist()\n",
    "    dictlist = generate_lst_dump(datadmp)\n",
    "    with open('results/update_dumps/litcovid_lst.json', 'w', encoding='utf-8') as f:\n",
    "        f.write(json.dumps(dictlist, indent=4))\n",
    "       "
   ]
  },
  {
   "cell_type": "markdown",
   "metadata": {},
   "source": [
    "## Download CSV data updates"
   ]
  },
  {
   "cell_type": "code",
   "execution_count": null,
   "metadata": {},
   "outputs": [],
   "source": []
  },
  {
   "cell_type": "code",
   "execution_count": null,
   "metadata": {},
   "outputs": [],
   "source": []
  },
  {
   "cell_type": "code",
   "execution_count": null,
   "metadata": {},
   "outputs": [],
   "source": []
  },
  {
   "cell_type": "code",
   "execution_count": null,
   "metadata": {},
   "outputs": [],
   "source": []
  },
  {
   "cell_type": "code",
   "execution_count": null,
   "metadata": {},
   "outputs": [],
   "source": []
  },
  {
   "cell_type": "code",
   "execution_count": null,
   "metadata": {},
   "outputs": [],
   "source": [
    "##### Unit test\n",
    "##https://www.covid19lst.org/post/september-11-daily-covid-19-lst-report\n",
    "#dt.strftime(\"%A, %d. %B %Y %I:%M%p\")\n",
    "#'Tuesday, 21. November 2006 04:30PM'\n",
    "\n",
    "report_pmid_df = pandas.DataFrame(columns=['_id','name','identifier','url'])\n",
    "curatedByObject = generate_curator()\n",
    "author = curatedByObject.copy()\n",
    "author.pop(\"curationDate\")\n",
    "curatedByObject.pop('members')\n",
    "\n",
    "for eachfile in filelist[103:104]:\n",
    "    reportdate = eachfile[0:4]+'.'+eachfile[4:6]+'.'+eachfile[6:8]\n",
    "    datePublished = datetime.fromisoformat(eachfile[0:4]+'-'+eachfile[4:6]+'-'+eachfile[6:8])\n",
    "    name = \"Covid-19 LST Report \"+reportdate\n",
    "    reporturl = generate_report_url(datePublished)\n",
    "    report_id = 'lst'+reportdate\n",
    "    pmidlist,doilist = parse_pdf(eachfile)\n",
    "    basedOndf,missing = merge_meta(pmidlist,doilist)\n",
    "    reportlinkdf = basedOndf[['_id','url']]\n",
    "    reportlinkdf['identifier']=report_id\n",
    "    reportlinkdf['url']=reporturl\n",
    "    reportlinkdf['name']=name\n",
    "    report_pmid_df = pandas.concat(([report_pmid_df,reportlinkdf]),ignore_index=True)\n",
    "    report_pmid_df.drop_duplicates(keep='first',inplace=True)\n",
    "    report_pmid_df.to_csv('data/report_pmid_df.txt',sep='\\t',header=True)\n",
    "    save_missing(missing)\n",
    "    abstract = generate_abstract(basedOndf['_id'].unique().tolist())\n",
    "    metadict = {\"@context\": {\"schema\": \"http://schema.org/\", \"outbreak\": \"https://discovery.biothings.io/view/outbreak/\"}, \n",
    "                \"@type\": \"Publication\", \"journalName\": \"COVID-19 LST Daily Summary Reports\", \"journalNameAbbreviation\": \"covid19LST\", \n",
    "                \"publicationType\": \"Review\", \"license\":\"(CC BY-NC-SA 4.0) (http://creativecommons.org/licenses/by-nc-sa/4.0/)\",\n",
    "                \"_id\":report_id,\"curatedBy\": curatedByObject,\"abstract\": abstract, \"name\": name, \n",
    "                \"datePublished\": datePublished.strftime(\"%y-%m-%d\"),\"url\": reporturl, \n",
    "                \"isBasedOn\":basedOndf.to_dict('records')}\n",
    "    print(metadict)"
   ]
  }
 ],
 "metadata": {
  "kernelspec": {
   "display_name": "Python 3",
   "language": "python",
   "name": "python3"
  },
  "language_info": {
   "codemirror_mode": {
    "name": "ipython",
    "version": 3
   },
   "file_extension": ".py",
   "mimetype": "text/x-python",
   "name": "python",
   "nbconvert_exporter": "python",
   "pygments_lexer": "ipython3",
   "version": "3.8.5"
  }
 },
 "nbformat": 4,
 "nbformat_minor": 4
}
